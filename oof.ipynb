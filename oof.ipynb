{
 "cells": [
  {
   "cell_type": "code",
   "execution_count": 1,
   "metadata": {},
   "outputs": [],
   "source": [
    "import numpy as np\n",
    "import pandas as pd\n",
    "from sklearn.metrics import accuracy_score\n",
    "import copy\n",
    "from scipy.stats import mode"
   ]
  },
  {
   "cell_type": "code",
   "execution_count": 2,
   "metadata": {},
   "outputs": [],
   "source": [
    "label = pd.read_csv(\"merged.csv\")\n",
    "label_2019 = label[label[\"source\"] == 2019]\n",
    "label_2020 = label[label[\"source\"] == 2020]\n",
    "\n",
    "label = pd.concat([label_2019, label_2020], axis=0)"
   ]
  },
  {
   "cell_type": "code",
   "execution_count": 3,
   "metadata": {},
   "outputs": [
    {
     "name": "stdout",
     "output_type": "stream",
     "text": [
      "0.902182548955461\n",
      "0.9205300527774614\n"
     ]
    },
    {
     "data": {
      "text/html": [
       "<div>\n",
       "<style scoped>\n",
       "    .dataframe tbody tr th:only-of-type {\n",
       "        vertical-align: middle;\n",
       "    }\n",
       "\n",
       "    .dataframe tbody tr th {\n",
       "        vertical-align: top;\n",
       "    }\n",
       "\n",
       "    .dataframe thead th {\n",
       "        text-align: right;\n",
       "    }\n",
       "</style>\n",
       "<table border=\"1\" class=\"dataframe\">\n",
       "  <thead>\n",
       "    <tr style=\"text-align: right;\">\n",
       "      <th></th>\n",
       "      <th>image_id</th>\n",
       "      <th>label</th>\n",
       "      <th>source</th>\n",
       "    </tr>\n",
       "  </thead>\n",
       "  <tbody>\n",
       "    <tr>\n",
       "      <th>21397</th>\n",
       "      <td>train-cmd-1418.jpg</td>\n",
       "      <td>3</td>\n",
       "      <td>2019</td>\n",
       "    </tr>\n",
       "    <tr>\n",
       "      <th>21398</th>\n",
       "      <td>train-cbsd-154.jpg</td>\n",
       "      <td>1</td>\n",
       "      <td>2019</td>\n",
       "    </tr>\n",
       "    <tr>\n",
       "      <th>21399</th>\n",
       "      <td>train-cbsd-498.jpg</td>\n",
       "      <td>1</td>\n",
       "      <td>2019</td>\n",
       "    </tr>\n",
       "    <tr>\n",
       "      <th>21400</th>\n",
       "      <td>train-cmd-136.jpg</td>\n",
       "      <td>3</td>\n",
       "      <td>2019</td>\n",
       "    </tr>\n",
       "    <tr>\n",
       "      <th>21401</th>\n",
       "      <td>train-cmd-1226.jpg</td>\n",
       "      <td>3</td>\n",
       "      <td>2019</td>\n",
       "    </tr>\n",
       "  </tbody>\n",
       "</table>\n",
       "</div>"
      ],
      "text/plain": [
       "                 image_id  label  source\n",
       "21397  train-cmd-1418.jpg      3    2019\n",
       "21398  train-cbsd-154.jpg      1    2019\n",
       "21399  train-cbsd-498.jpg      1    2019\n",
       "21400   train-cmd-136.jpg      3    2019\n",
       "21401  train-cmd-1226.jpg      3    2019"
      ]
     },
     "execution_count": 3,
     "metadata": {},
     "output_type": "execute_result"
    }
   ],
   "source": [
    "models = [\n",
    "    \"seresnext50\",\n",
    "    \"seresnext101\",\n",
    "    \"efficientnet_b3\",\n",
    "    \"efficientnet_b5\",\n",
    "    \"ese_vovnet39b\",\n",
    "]\n",
    "\n",
    "seeds = [\n",
    "    1997,\n",
    "    1996,\n",
    "    123,\n",
    "    42,\n",
    "    323,\n",
    "]\n",
    "\n",
    "predictions = []\n",
    "\n",
    "for model, seed in zip(models, seeds):\n",
    "    \n",
    "    prediction = copy.deepcopy(label_2020)\n",
    "    prediction[\"label\"] = 0\n",
    "    \n",
    "    file_path = model + \"/\"\n",
    "    \n",
    "    for fold in range(5):\n",
    "        prediction_fold = np.load(file_path + \"predict_fold_{}.npy\".format(fold))\n",
    "        index_fold = pd.read_csv(file_path + \"val_fold_{}_seed_{}.csv\".format(fold, seed))[\"Unnamed: 0\"].values\n",
    "        prediction.loc[index_fold, \"label\"] = prediction_fold\n",
    "        \n",
    "    predictions.append(prediction[\"label\"].values)\n",
    "    \n",
    "prediction[\"label\"] = mode(predictions, axis=0)[0].squeeze()\n",
    "\n",
    "print(accuracy_score(np.round(prediction[\"label\"].values).astype(np.int), label_2020[\"label\"].values))\n",
    "\n",
    "prediction = pd.concat([label_2019, prediction], axis=0)\n",
    "\n",
    "print(accuracy_score(np.round(prediction[\"label\"].values).astype(np.int), label[\"label\"].values))\n",
    "        \n",
    "prediction.head()"
   ]
  },
  {
   "cell_type": "code",
   "execution_count": 4,
   "metadata": {},
   "outputs": [
    {
     "data": {
      "text/html": [
       "<div>\n",
       "<style scoped>\n",
       "    .dataframe tbody tr th:only-of-type {\n",
       "        vertical-align: middle;\n",
       "    }\n",
       "\n",
       "    .dataframe tbody tr th {\n",
       "        vertical-align: top;\n",
       "    }\n",
       "\n",
       "    .dataframe thead th {\n",
       "        text-align: right;\n",
       "    }\n",
       "</style>\n",
       "<table border=\"1\" class=\"dataframe\">\n",
       "  <thead>\n",
       "    <tr style=\"text-align: right;\">\n",
       "      <th></th>\n",
       "      <th>image_id</th>\n",
       "      <th>label</th>\n",
       "      <th>source</th>\n",
       "      <th>pseudo_label</th>\n",
       "    </tr>\n",
       "  </thead>\n",
       "  <tbody>\n",
       "    <tr>\n",
       "      <th>21397</th>\n",
       "      <td>train-cmd-1418.jpg</td>\n",
       "      <td>3</td>\n",
       "      <td>2019</td>\n",
       "      <td>3</td>\n",
       "    </tr>\n",
       "    <tr>\n",
       "      <th>21398</th>\n",
       "      <td>train-cbsd-154.jpg</td>\n",
       "      <td>1</td>\n",
       "      <td>2019</td>\n",
       "      <td>1</td>\n",
       "    </tr>\n",
       "    <tr>\n",
       "      <th>21399</th>\n",
       "      <td>train-cbsd-498.jpg</td>\n",
       "      <td>1</td>\n",
       "      <td>2019</td>\n",
       "      <td>1</td>\n",
       "    </tr>\n",
       "    <tr>\n",
       "      <th>21400</th>\n",
       "      <td>train-cmd-136.jpg</td>\n",
       "      <td>3</td>\n",
       "      <td>2019</td>\n",
       "      <td>3</td>\n",
       "    </tr>\n",
       "    <tr>\n",
       "      <th>21401</th>\n",
       "      <td>train-cmd-1226.jpg</td>\n",
       "      <td>3</td>\n",
       "      <td>2019</td>\n",
       "      <td>3</td>\n",
       "    </tr>\n",
       "  </tbody>\n",
       "</table>\n",
       "</div>"
      ],
      "text/plain": [
       "                 image_id  label  source  pseudo_label\n",
       "21397  train-cmd-1418.jpg      3    2019             3\n",
       "21398  train-cbsd-154.jpg      1    2019             1\n",
       "21399  train-cbsd-498.jpg      1    2019             1\n",
       "21400   train-cmd-136.jpg      3    2019             3\n",
       "21401  train-cmd-1226.jpg      3    2019             3"
      ]
     },
     "execution_count": 4,
     "metadata": {},
     "output_type": "execute_result"
    }
   ],
   "source": [
    "label_pseudo = copy.deepcopy(label)\n",
    "\n",
    "# label_pseudo[\"pseudo_label\"] = 0.4 * prediction[\"label\"] + 0.6 * label[\"label\"]\n",
    "label_pseudo[\"pseudo_label\"] = prediction[\"label\"]\n",
    "label_pseudo[\"pseudo_label\"] = np.round(label_pseudo[\"pseudo_label\"]).astype(np.int)\n",
    "\n",
    "label_pseudo.head()"
   ]
  },
  {
   "cell_type": "code",
   "execution_count": 5,
   "metadata": {},
   "outputs": [
    {
     "name": "stdout",
     "output_type": "stream",
     "text": [
      "0.9205300527774614\n"
     ]
    }
   ],
   "source": [
    "print(accuracy_score(label_pseudo[\"pseudo_label\"].values, label_pseudo[\"label\"].values))"
   ]
  },
  {
   "cell_type": "code",
   "execution_count": 6,
   "metadata": {},
   "outputs": [],
   "source": [
    "label_pseudo.to_csv(\"merged_pseudo.csv\", index=False)"
   ]
  },
  {
   "cell_type": "code",
   "execution_count": null,
   "metadata": {},
   "outputs": [],
   "source": []
  }
 ],
 "metadata": {
  "kernelspec": {
   "display_name": "py3env",
   "language": "python",
   "name": "py3env"
  },
  "language_info": {
   "codemirror_mode": {
    "name": "ipython",
    "version": 3
   },
   "file_extension": ".py",
   "mimetype": "text/x-python",
   "name": "python",
   "nbconvert_exporter": "python",
   "pygments_lexer": "ipython3",
   "version": "3.7.0"
  }
 },
 "nbformat": 4,
 "nbformat_minor": 2
}
